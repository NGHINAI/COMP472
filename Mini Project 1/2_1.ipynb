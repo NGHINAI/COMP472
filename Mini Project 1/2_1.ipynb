{
 "cells": [
  {
   "cell_type": "code",
   "execution_count": null,
   "id": "b8926ffe",
   "metadata": {},
   "outputs": [],
   "source": [
    "import json\n",
    "import pandas as pd #need to ask if i can use this library\n",
    "import matplotlib.pyplot as plt\n",
    "from sklearn.feature_extraction.text import CountVectorizer"
   ]
  },
  {
   "cell_type": "code",
   "execution_count": null,
   "id": "8ed082c3",
   "metadata": {},
   "outputs": [],
   "source": [
    "# with open(\"goemotions.json\", \"r\") as read_content:\n",
    "#     file = json.load(read_content)"
   ]
  },
  {
   "cell_type": "code",
   "execution_count": null,
   "id": "d4a4c17e",
   "metadata": {},
   "outputs": [],
   "source": [
    "with open(\"goemotions.json\", \"r\") as read_content:\n",
    "    file = pd.read_json(read_content)"
   ]
  },
  {
   "cell_type": "code",
   "execution_count": null,
   "id": "c79f7617",
   "metadata": {},
   "outputs": [],
   "source": [
    "# print(file)"
   ]
  },
  {
   "cell_type": "markdown",
   "id": "44c911c1",
   "metadata": {},
   "source": [
    "Taking count of all sentiment and emotion tags respectively associated with Reddit posts. Then creating a dictionary to create key-value pairings."
   ]
  },
  {
   "cell_type": "code",
   "execution_count": null,
   "id": "12359459",
   "metadata": {},
   "outputs": [],
   "source": [
    "sentiment = file[2].value_counts().to_dict()\n",
    "sentiment_values = sentiment.keys()\n",
    "sentiment_frequency = sentiment.values()"
   ]
  },
  {
   "cell_type": "code",
   "execution_count": null,
   "id": "f6ffc50e",
   "metadata": {},
   "outputs": [],
   "source": [
    "emotion = file[1].value_counts().to_dict()\n",
    "emotion_values = emotion.keys()\n",
    "emotion_frequency = emotion.values()"
   ]
  },
  {
   "cell_type": "markdown",
   "id": "0ebb9377",
   "metadata": {},
   "source": [
    "Plotting of Frequency vs. Emotion and Frequency vs. Sentiment <br>\n",
    "Source: https://matplotlib.org/stable/api/_as_gen/matplotlib.pyplot.bar.html <br>\n",
    "https://matplotlib.org/stable/api/_as_gen/matplotlib.pyplot.pie.html <br>\n",
    "https://matplotlib.org/stable/api/_as_gen/matplotlib.pyplot.savefig.html"
   ]
  },
  {
   "cell_type": "code",
   "execution_count": null,
   "id": "75e1555a",
   "metadata": {},
   "outputs": [],
   "source": [
    "plt.xlabel(\"Emotion\")\n",
    "plt.ylabel(\"Frequency\")\n",
    "plt.title(\"Emotion Frequency\")\n",
    "plt.xticks(rotation= 90) #done for readbility purposes\n",
    "plt.bar(emotion_values, emotion_frequency)\n",
    "plt.savefig(\"bar_emotion.png\")\n",
    "plt.show()\n"
   ]
  },
  {
   "cell_type": "code",
   "execution_count": null,
   "id": "9eeb6746",
   "metadata": {},
   "outputs": [],
   "source": [
    "labels = []\n",
    "sizes = []\n",
    "for x, y in emotion.items():\n",
    "    labels.append(x)\n",
    "    sizes.append(y)\n",
    "plt.pie(sizes, labels=labels, rotatelabels = True, autopct ='%1.1f%%')\n",
    "plt.savefig(\"pie_emotion.png\")\n",
    "plt.show()\n"
   ]
  },
  {
   "cell_type": "code",
   "execution_count": null,
   "id": "a2de9a1c",
   "metadata": {},
   "outputs": [],
   "source": [
    "plt.xlabel(\"Sentiment\")\n",
    "plt.ylabel(\"Frequency\")\n",
    "plt.title(\"Sentiment Frequency\")\n",
    "plt.bar(sentiment_values, sentiment_frequency)\n",
    "plt.savefig(\"bar_sentiment.png\")\n",
    "plt.show()"
   ]
  },
  {
   "cell_type": "code",
   "execution_count": null,
   "id": "013d7abf",
   "metadata": {},
   "outputs": [],
   "source": [
    "labels = []\n",
    "sizes = []\n",
    "for x, y in sentiment.items():\n",
    "    labels.append(x)\n",
    "    sizes.append(y)\n",
    "plt.pie(sizes, labels=labels, autopct ='%1.1f%%')\n",
    "plt.savefig(\"pie_sentiment.png\")\n",
    "plt.show()\n"
   ]
  },
  {
   "cell_type": "code",
   "execution_count": null,
   "id": "9c7061b4",
   "metadata": {},
   "outputs": [],
   "source": []
  }
 ],
 "metadata": {
  "kernelspec": {
   "display_name": "Python 3 (ipykernel)",
   "language": "python",
   "name": "python3"
  },
  "language_info": {
   "codemirror_mode": {
    "name": "ipython",
    "version": 3
   },
   "file_extension": ".py",
   "mimetype": "text/x-python",
   "name": "python",
   "nbconvert_exporter": "python",
   "pygments_lexer": "ipython3",
   "version": "3.10.4"
  }
 },
 "nbformat": 4,
 "nbformat_minor": 5
}
