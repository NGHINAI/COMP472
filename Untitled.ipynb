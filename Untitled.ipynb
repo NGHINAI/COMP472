{
 "cells": [
  {
   "cell_type": "code",
   "execution_count": 2,
   "id": "b8926ffe",
   "metadata": {},
   "outputs": [],
   "source": [
    "import json\n",
    "import pandas as pd #need to ask if i can use this library\n",
    "import matplotlib.pyplot as plt\n",
    "from sklearn.feature_extraction.text import CountVectorizer"
   ]
  },
  {
   "cell_type": "code",
   "execution_count": 3,
   "id": "8ed082c3",
   "metadata": {},
   "outputs": [],
   "source": [
    "# with open(\"goemotions.json\", \"r\") as read_content:\n",
    "#     file = json.load(read_content)"
   ]
  },
  {
   "cell_type": "code",
   "execution_count": 4,
   "id": "d4a4c17e",
   "metadata": {},
   "outputs": [],
   "source": [
    "with open(\"goemotions.json\", \"r\") as read_content:\n",
    "    file = pd.read_json(read_content)"
   ]
  },
  {
   "cell_type": "code",
   "execution_count": 5,
   "id": "c79f7617",
   "metadata": {},
   "outputs": [
    {
     "name": "stdout",
     "output_type": "stream",
     "text": [
      "                                                        0           1  \\\n",
      "0                                         That game hurt.     sadness   \n",
      "1          You do right, if you don't care then fuck 'em!     neutral   \n",
      "2                                      Man I love reddit.        love   \n",
      "3       [NAME] was nowhere near them, he was by the Fa...     neutral   \n",
      "4       Right? Considering it’s such an important docu...   gratitude   \n",
      "...                                                   ...         ...   \n",
      "171815  Well, I'm glad you're out of all that now. How...         joy   \n",
      "171816                             Everyone likes [NAME].        love   \n",
      "171817  Well when you’ve imported about a gazillion of...      caring   \n",
      "171818                                 That looks amazing  admiration   \n",
      "171819  The FDA has plenty to criticize. But like here...       anger   \n",
      "\n",
      "               2  \n",
      "0       negative  \n",
      "1        neutral  \n",
      "2       positive  \n",
      "3        neutral  \n",
      "4       positive  \n",
      "...          ...  \n",
      "171815  positive  \n",
      "171816  positive  \n",
      "171817  positive  \n",
      "171818  positive  \n",
      "171819  negative  \n",
      "\n",
      "[171820 rows x 3 columns]\n"
     ]
    }
   ],
   "source": [
    "print(file)"
   ]
  },
  {
   "cell_type": "code",
   "execution_count": 6,
   "id": "12359459",
   "metadata": {},
   "outputs": [],
   "source": [
    "sentiment = file[2].value_counts().to_dict()\n",
    "sentiment_values = sentiment.keys()\n",
    "sentiment_frequency = sentiment.values()"
   ]
  },
  {
   "cell_type": "code",
   "execution_count": 7,
   "id": "f6ffc50e",
   "metadata": {},
   "outputs": [],
   "source": [
    "emotion = file[1].value_counts().to_dict()\n",
    "emotion_values = emotion.keys()\n",
    "emotion_frequency = emotion.values()"
   ]
  },
  {
   "cell_type": "code",
   "execution_count": 11,
   "id": "75e1555a",
   "metadata": {},
   "outputs": [
    {
     "data": {
      "text/plain": [
       "<BarContainer object of 28 artists>"
      ]
     },
     "execution_count": 11,
     "metadata": {},
     "output_type": "execute_result"
    },
    {
     "data": {
      "image/png": "[encoded data removed]",
      "text/plain": [
       "<Figure size 432x288 with 1 Axes>"
      ]
     },
     "metadata": {
      "needs_background": "light"
     },
     "output_type": "display_data"
    }
   ],
   "source": [
    "plt.xlabel(\"Emotion\")\n",
    "plt.ylabel(\"Frequency\")\n",
    "plt.title(\"Emotion Frequency\")\n",
    "plt.bar(emotion_values, emotion_frequency)\n"
   ]
  },
  {
   "cell_type": "code",
   "execution_count": 12,
   "id": "a2de9a1c",
   "metadata": {},
   "outputs": [
    {
     "data": {
      "text/plain": [
       "<BarContainer object of 4 artists>"
      ]
     },
     "execution_count": 12,
     "metadata": {},
     "output_type": "execute_result"
    },
    {
     "data": {
      "image/png": "[encoded data removed]",
      "text/plain": [
       "<Figure size 432x288 with 1 Axes>"
      ]
     },
     "metadata": {
      "needs_background": "light"
     },
     "output_type": "display_data"
    }
   ],
   "source": [
    "plt.xlabel(\"Sentiment\")\n",
    "plt.ylabel(\"Frequency\")\n",
    "plt.title(\"Sentiment Frequency\")\n",
    "plt.bar(sentiment_values, sentiment_frequency)"
   ]
  },
  {
   "cell_type": "code",
   "execution_count": null,
   "id": "013d7abf",
   "metadata": {},
   "outputs": [],
   "source": []
  }
 ],
 "metadata": {
  "kernelspec": {
   "display_name": "Python 3 (ipykernel)",
   "language": "python",
   "name": "python3"
  },
  "language_info": {
   "codemirror_mode": {
    "name": "ipython",
    "version": 3
   },
   "file_extension": ".py",
   "mimetype": "text/x-python",
   "name": "python",
   "nbconvert_exporter": "python",
   "pygments_lexer": "ipython3",
   "version": "3.9.7"
  }
 },
 "nbformat": 4,
 "nbformat_minor": 5
}
